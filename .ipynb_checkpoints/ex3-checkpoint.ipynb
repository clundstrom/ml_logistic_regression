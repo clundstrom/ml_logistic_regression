{
 "cells": [
  {
   "cell_type": "markdown",
   "metadata": {
    "collapsed": true,
    "pycharm": {
     "name": "#%% md\n"
    }
   },
   "source": [
    "### 3. Multivariate logistic regression\n",
    "\n",
    "##### 1.1  Read and shuffle data\n",
    "##### 1.2  Replace responses 2 and 4 with 0 and 1.\n",
    "\n",
    "##### Allocations for testing:\n",
    "\n",
    "I allocated 20% for testing because it is a common ratio for training and testing. In this example there is also no\n",
    "validation testing. If there was I would considered having a set for that aswell."
   ]
  },
  {
   "cell_type": "code",
   "execution_count": 2,
   "metadata": {
    "pycharm": {
     "is_executing": false,
     "name": "#%%\n"
    }
   },
   "outputs": [],
   "source": [
    "import numpy as np\n",
    "import matplotlib.pyplot as plt\n",
    "from os import path\n",
    "import util\n",
    "from sklearn.model_selection import train_test_split\n",
    "\n",
    "data = np.genfromtxt(path.join('data/breast_cancer.csv'), delimiter=',', dtype=float)\n",
    "\n",
    "data = np.array(data)\n",
    "data[data == 2] = 0  # benign\n",
    "data[data == 4] = 1  # malignant\n",
    "\n",
    "X = np.array([data[:, 0], data[:, 1], data[:, 2], data[:, 3], data[:, 4], data[:, 5],\n",
    "              data[:, 6], data[:, 7], data[:, 8]]).T\n",
    "\n",
    "y = np.array([data[:, 9]]).T\n",
    "\n",
    "# Split data int training set and test set\n",
    "X_train, X_test, y_train, y_test = train_test_split(X, y, test_size=0.2, random_state=10)\n"
   ]
  },
  {
   "cell_type": "markdown",
   "metadata": {},
   "source": [
    "##### 1.3  Normalize training data, train with GD and plot."
   ]
  },
  {
   "cell_type": "code",
   "execution_count": 3,
   "metadata": {
    "pycharm": {
     "is_executing": false,
     "name": "#%%\n"
    }
   },
   "outputs": [
    {
     "name": "stdout",
     "output_type": "stream",
     "text": [
      "Hyperparams: alpha 0.2 iter 1000\n",
      "Final cost func:  [[0.08741299]]\n"
     ]
    },
    {
     "data": {
      "image/png": "[encoded data removed]",
      "text/plain": [
       "<Figure size 432x288 with 1 Axes>"
      ]
     },
     "metadata": {
      "needs_background": "light"
     },
     "output_type": "display_data"
    }
   ],
   "source": [
    "# Standardize data\n",
    "X_train_n, feature_mean, feature_std = util.standardizeSet(X_train)\n",
    "X_train_ne = util.extendMatrix(X_train_n)\n",
    "\n",
    "# Train model -> Find beta\n",
    "alpha = 0.2\n",
    "iterations = 1000\n",
    "print(f\"Hyperparams: alpha {alpha} iter {iterations}\")\n",
    "\n",
    "beta = np.array([0, 0, 0, 0, 0, 0, 0, 0, 0, 0]).reshape(-1, 1)  # Start from beta 0\n",
    "beta, plots = util.GDLogistic(iterations, alpha, beta, X_train_ne, y_train, True)  # Find new beta\n",
    "print(\"Final cost func: \", util.costLogistic(X_train_ne, y_train, beta))\n",
    "\n",
    "plt.plot(range(0, iterations), plots)\n",
    "plt.xlabel('Iterations')\n",
    "plt.ylabel('Cost')\n",
    "plt.show()"
   ]
  },
  {
   "cell_type": "markdown",
   "metadata": {
    "pycharm": {
     "name": "#%% md\n"
    }
   },
   "source": [
    "##### 1.4 Training errors and training accuracy\n",
    "\n",
    "##### 1.5 Testing errors and testing accuracy"
   ]
  },
  {
   "cell_type": "code",
   "execution_count": 4,
   "metadata": {
    "pycharm": {
     "is_executing": false,
     "name": "#%%\n"
    }
   },
   "outputs": [
    {
     "name": "stdout",
     "output_type": "stream",
     "text": [
      "Errors:  17\n",
      "Accuracy on training set: 96.89 %\n",
      "Errors:  1\n",
      "Accuracy on test set: 99.27 %\n"
     ]
    }
   ],
   "source": [
    "errs = util.trainingErrs(X_train_ne, beta, y_train)\n",
    "accuracy = np.divide((X_train_ne.shape[0]-errs), X_train_ne.shape[0])\n",
    "print(f\"Accuracy on training set: {round(accuracy*100, 2)} %\")\n",
    "\n",
    "errs = util.trainingErrs(util.extendMatrix(X_test), beta, util.extendMatrix(y_test))\n",
    "accuracy = np.divide((X_test.shape[0]-errs), X_test.shape[0])\n",
    "print(f\"Accuracy on test set: {round(accuracy*100, 2)} %\")"
   ]
  },
  {
   "cell_type": "markdown",
   "metadata": {},
   "source": [
    "##### 1.6 Repeated runs\n",
    "\n",
    "The results are around the same for the test set no matter how I shuffle the set.\n",
    "Depending on the size of the test set one error will account for\n",
    "a larger or smaller accuracy of the total which accounts for differences in accuracy. Therefore a\n",
    "difference can be expected.\n"
   ]
  },
  {
   "cell_type": "code",
   "execution_count": null,
   "metadata": {},
   "outputs": [],
   "source": []
  }
 ],
 "metadata": {
  "kernelspec": {
   "display_name": "Python 3",
   "language": "python",
   "name": "python3"
  },
  "language_info": {
   "codemirror_mode": {
    "name": "ipython",
    "version": 3
   },
   "file_extension": ".py",
   "mimetype": "text/x-python",
   "name": "python",
   "nbconvert_exporter": "python",
   "pygments_lexer": "ipython3",
   "version": "3.7.6"
  },
  "pycharm": {
   "stem_cell": {
    "cell_type": "raw",
    "metadata": {
     "collapsed": false
    },
    "source": []
   }
  }
 },
 "nbformat": 4,
 "nbformat_minor": 1
}
