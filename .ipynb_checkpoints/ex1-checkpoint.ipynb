{
 "cells": [
  {
   "cell_type": "markdown",
   "metadata": {
    "collapsed": true,
    "pycharm": {
     "name": "#%% md\n"
    }
   },
   "source": [
    "#### 1. Multivariate Regression\n",
    "\n",
    "##### 1.1  Normalizing data"
   ]
  },
  {
   "cell_type": "code",
   "execution_count": 12,
   "metadata": {
    "pycharm": {
     "is_executing": false,
     "name": "#%%\n"
    }
   },
   "outputs": [],
   "source": [
    "import numpy as np\n",
    "import matplotlib.pyplot as plt\n",
    "from os import path\n",
    "import util\n",
    "\n",
    "data = np.genfromtxt(path.join('data/GPUbenchmark.csv'), delimiter=',', dtype=float)\n",
    "\n",
    "# Define X, Xe and Y\n",
    "y = data[:, 6]\n",
    "X = np.array([data[:, 0], data[:, 1], data[:, 2], data[:, 3], data[:, 4], data[:, 5]]).T\n",
    "Xe = util.extendMatrix(X)\n",
    "\n",
    "# Normalize\n",
    "X_norm, feature_mean, feature_std = util.standardizeSet(X)\n",
    "\n",
    "# Extend normalized data\n",
    "Xe_norm = util.extendMatrix(X_norm)\n"
   ]
  },
  {
   "cell_type": "markdown",
   "metadata": {
    "pycharm": {
     "is_executing": false,
     "name": "#%% md\n"
    }
   },
   "source": [
    "##### 1.2  Plot data"
   ]
  },
  {
   "cell_type": "code",
   "execution_count": 9,
   "metadata": {
    "pycharm": {
     "is_executing": false,
     "name": "#%%\n"
    }
   },
   "outputs": [
    {
     "data": {
      "image/png": "[encoded data removed]",
      "text/plain": [
       "<Figure size 432x288 with 6 Axes>"
      ]
     },
     "metadata": {
      "needs_background": "light"
     },
     "output_type": "display_data"
    }
   ],
   "source": [
    "for i in range(1, 7):\n",
    "    plt.xlim(-3, 3)\n",
    "    util.createSubScatterPlot(util.stdFeature(Xe_norm[:, i]), y, f'Feature {i}', 'Y', 2, 3, i)\n",
    "\n",
    "plt.xlim(-3, 3)\n",
    "plt.show()\n"
   ]
  },
  {
   "cell_type": "markdown",
   "metadata": {
    "pycharm": {
     "is_executing": false,
     "name": "#%% md\n"
    }
   },
   "source": [
    "##### 1.3-4  Computing beta and Cost Function J(beta)"
   ]
  },
  {
   "cell_type": "code",
   "execution_count": 11,
   "metadata": {
    "pycharm": {
     "name": "#%%\n"
    }
   },
   "outputs": [
    {
     "name": "stdout",
     "output_type": "stream",
     "text": [
      "Benchmark using normal eq:  110.80403513782926\n",
      "Cost function:  12.396444360915662\n",
      "Cost function normalized:  12.396444360915657\n",
      "Benchmark on normalized data:  110.80403513783196\n"
     ]
    }
   ],
   "source": [
    "gpu = np.array([2432, 1607, 1683, 8, 8, 256])\n",
    "gpu_norm = util.standardize(gpu, feature_mean, feature_std)\n",
    "gpu_norm_e = np.array([1, gpu_norm[0], gpu_norm[1], gpu_norm[2], gpu_norm[3], gpu_norm[4], gpu_norm[5]])\n",
    "\n",
    "gpu = np.array([1, 2432, 1607, 1683, 8, 8, 256])\n",
    "beta = util.calcBeta(Xe, y)\n",
    "print(\"Benchmark using normal eq: \", util.normalEq(Xe, y, gpu))\n",
    "print(\"Cost function: \", util.cost(Xe, y, beta))\n",
    "# 12.3964\n",
    "beta2 = util.calcBeta(Xe_norm, y)\n",
    "print(\"Cost function normalized: \", util.cost(Xe_norm, y, beta2))\n",
    "print(\"Benchmark on normalized data: \", util.normalEq(Xe_norm, y, gpu_norm_e))\n",
    "\n"
   ]
  },
  {
   "cell_type": "markdown",
   "metadata": {},
   "source": [
    "##### 1.5  Gradient Descent"
   ]
  },
  {
   "cell_type": "code",
   "execution_count": 10,
   "metadata": {
    "pycharm": {
     "name": "#%%\n"
    }
   },
   "outputs": [
    {
     "name": "stdout",
     "output_type": "stream",
     "text": [
      "minimizeBeta took 42.019 ms\n",
      "GD final cost:  12.39644436091564\n",
      "Parameters: Alpha=0.02, Iterations=10000\n",
      "Benchmark(normalized gd):  110.80403513794923\n"
     ]
    }
   ],
   "source": [
    "# Implement vectorized version of gradient descent\n",
    "iterations = 10000\n",
    "alpha = 0.02\n",
    "start = np.array([0, 0, 0, 0, 0, 0, 0])\n",
    "\n",
    "beta = util.minimizeBeta(iterations, alpha, start, Xe_norm, y)\n",
    "print(\"GD final cost: \", util.cost(Xe_norm, y, beta))\n",
    "print(f\"Parameters: Alpha={alpha}, Iterations={iterations}\")\n",
    "# 12.50950 after 35 mill iterations\n",
    "# .0091% of previous cost\n",
    "print(\"Benchmark(normalized gd): \", util.predict(gpu_norm_e, beta))\n"
   ]
  },
  {
   "cell_type": "code",
   "execution_count": null,
   "metadata": {},
   "outputs": [],
   "source": []
  }
 ],
 "metadata": {
  "kernelspec": {
   "display_name": "Python 3",
   "language": "python",
   "name": "python3"
  },
  "language_info": {
   "codemirror_mode": {
    "name": "ipython",
    "version": 3
   },
   "file_extension": ".py",
   "mimetype": "text/x-python",
   "name": "python",
   "nbconvert_exporter": "python",
   "pygments_lexer": "ipython3",
   "version": "3.7.6"
  },
  "pycharm": {
   "stem_cell": {
    "cell_type": "raw",
    "metadata": {
     "collapsed": false
    },
    "source": []
   }
  }
 },
 "nbformat": 4,
 "nbformat_minor": 1
}
