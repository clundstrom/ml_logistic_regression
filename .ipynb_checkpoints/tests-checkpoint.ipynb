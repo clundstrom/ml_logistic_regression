{
 "cells": [
  {
   "cell_type": "code",
   "execution_count": null,
   "metadata": {
    "pycharm": {
     "name": "#%%\n"
    }
   },
   "outputs": [],
   "source": [
    "import timeit\n",
    "import numpy as np\n",
    "\n",
    "def distance(chip_1, chip_2):\n",
    "    return np.linalg.norm(chip_1-chip_2)\n",
    "\n",
    "def euclidian(chip1, chip_2):\n",
    "    return sum([(x - y) ** 2 for (x, y) in zip(chip1, chip_2)]) ** (0.5)\n",
    "\n",
    "npArr = np.random.randn(500000, 2)\n",
    "\n",
    "\n",
    "distances = []\n",
    "\n",
    "\n",
    "%timeit for chip in npArr:\n",
    "    dist = distance((1.12,3.12), chip)\n",
    "    distances.append(dist)\n",
    "print(\"done\")"
   ]
  }
 ],
 "metadata": {
  "kernelspec": {
   "display_name": "Python 3",
   "language": "python",
   "name": "python3"
  },
  "language_info": {
   "codemirror_mode": {
    "name": "ipython",
    "version": 2
   },
   "file_extension": ".py",
   "mimetype": "text/x-python",
   "name": "python",
   "nbconvert_exporter": "python",
   "pygments_lexer": "ipython2",
   "version": "2.7.6"
  },
  "pycharm": {
   "stem_cell": {
    "cell_type": "raw",
    "metadata": {
     "collapsed": false
    },
    "source": []
   }
  }
 },
 "nbformat": 4,
 "nbformat_minor": 1
}
