{
 "cells": [
  {
   "cell_type": "markdown",
   "metadata": {
    "collapsed": true,
    "pycharm": {
     "name": "#%% md\n"
    }
   },
   "source": [
    "### 2. Polynomial regression\n",
    "\n",
    "##### 1.1  Plot data"
   ]
  },
  {
   "cell_type": "code",
   "execution_count": 1,
   "metadata": {
    "pycharm": {
     "is_executing": false,
     "name": "#%%\n"
    }
   },
   "outputs": [
    {
     "data": {
      "image/png": "[encoded data removed]",
      "text/plain": [
       "<Figure size 432x288 with 1 Axes>"
      ]
     },
     "metadata": {
      "needs_background": "light"
     },
     "output_type": "display_data"
    }
   ],
   "source": [
    "import numpy as np\n",
    "import matplotlib.pyplot as plt\n",
    "from os import path\n",
    "import util\n",
    "\n",
    "data = np.genfromtxt(path.join('data/housing_price_index.csv'), delimiter=',', dtype=float)\n",
    "\n",
    "X = data[:, 0]\n",
    "y = np.array(data[:, 1])\n",
    "\n",
    "\n",
    "plt.xlabel('Years from 1975')\n",
    "plt.ylabel('Price Index')\n",
    "plt.xlim(0, 50)\n",
    "plt.plot(X, y, color=\"blue\")\n",
    "plt.show()"
   ]
  },
  {
   "cell_type": "markdown",
   "metadata": {
    "pycharm": {
     "name": "#%% md\n"
    }
   },
   "source": [
    "##### 1.2 Polynomial models\n",
    "\n",
    "##### Best fit?\n",
    "\n",
    "The best fit is the model with the lowest cost function -> lowest MSE.\n",
    "In this case I would choose polynomial model X4.\n"
   ]
  },
  {
   "cell_type": "code",
   "execution_count": 2,
   "metadata": {
    "pycharm": {
     "is_executing": false,
     "name": "#%%\n"
    }
   },
   "outputs": [
    {
     "name": "stdout",
     "output_type": "stream",
     "text": [
      "MSE X1:  2896.093679981457\n",
      "MSE X2:  585.0675759009071\n",
      "MSE X3:  454.5434507726961\n",
      "MSE X4:  443.7602521836899\n"
     ]
    },
    {
     "data": {
      "image/png": "[encoded data removed]",
      "text/plain": [
       "<Figure size 432x288 with 4 Axes>"
      ]
     },
     "metadata": {
      "needs_background": "light"
     },
     "output_type": "display_data"
    }
   ],
   "source": [
    "X1 = util.extendMatrix(np.array([X]).T)\n",
    "X2 = util.extendMatrix(np.array([X, X**2]).T)\n",
    "X3 = util.extendMatrix(np.array([X, X**2, X**3]).T)\n",
    "X4 = util.extendMatrix(np.array([X, X**2, X**3, X**4]).T)\n",
    "\n",
    "\n",
    "plt.subplots(nrows=3, ncols=3)\n",
    "\n",
    "y_res = []\n",
    "for x in range(0, 50):\n",
    "    target = np.array([1, x])\n",
    "    y_res.append(util.normalEq(X1, y, target))\n",
    "util.createSubScatterPlot(np.arange(0, 50), y_res, x_label='Years from 1975', y_label='Price Index', row=2, col=2, nr=1)\n",
    "print(\"MSE X1: \", util.cost(X1, y, util.calcBeta(X1, y)))\n",
    "\n",
    "y_res = []\n",
    "for x in range(0, 50):\n",
    "    y_res.append(util.normalEq(X2, y,np.array([1, x, x**2])))\n",
    "util.createSubScatterPlot(np.arange(0, 50), y_res, x_label='Years from 1975', y_label='Price Index', row=2, col=2, nr=2)\n",
    "print(\"MSE X2: \", util.cost(X2, y, util.calcBeta(X2, y)))\n",
    "\n",
    "y_res = []\n",
    "for x in range(0, 50):\n",
    "    y_res.append(util.normalEq(X3, y, np.array([1, x, x**2, x**3])))\n",
    "util.createSubScatterPlot(np.arange(0, 50), y_res, x_label='Years from 1975', y_label='Price Index', row=2, col=2, nr=3)\n",
    "print(\"MSE X3: \", util.cost(X3, y, util.calcBeta(X3, y)))\n",
    "\n",
    "y_res = []\n",
    "for x in range(0, 50):\n",
    "    y_res.append(util.normalEq(X4, y, np.array([1, x, x**2, x**3, x**4])))\n",
    "util.createSubScatterPlot(np.arange(0, 50), y_res, x_label='Years from 1975', y_label='Price Index', row=2, col=2, nr=4)\n",
    "print(\"MSE X4: \", util.cost(X4, y, util.calcBeta(X4, y)))"
   ]
  },
  {
   "cell_type": "markdown",
   "metadata": {
    "pycharm": {
     "name": "#%% md\n"
    }
   },
   "source": [
    "##### 1.3 House index prediction\n",
    "\n",
    "#### Is the answer realistic? \n",
    "\n",
    "The current model states that if the the trend continues the model will predict a value of 3,236,749 kr\n",
    "according to (price*index 2022 / index_2015).\n",
    "\n",
    "It is however unclear if the trend continues. The model is trained on historic data from 1975-2017 which does not\n",
    "include the last three years of data. Current events such as the Covid-19 crisis has made the stock market\n",
    "extremely volatile and unpredictable and we have not yet seen the effects.\n",
    "\n",
    "There are also some uncertainty on the data. I'm not quite sure of the data source and how many samples is used\n",
    "to produce the index values. I think however that the prediction can be a good pointer but should be considered\n",
    "with a grain of salt."
   ]
  },
  {
   "cell_type": "code",
   "execution_count": 5,
   "metadata": {
    "pycharm": {
     "is_executing": false,
     "name": "#%%\n"
    }
   },
   "outputs": [
    {
     "name": "stdout",
     "output_type": "stream",
     "text": [
      "2022 price index prediciton:  799.3364217395016\n",
      "House price prediction (kr):  3236749\n"
     ]
    }
   ],
   "source": [
    "index_2022 = util.normalEq(X4, y, np.array([1, 47, 47**2, 47**3, 47**4]))\n",
    "index_2015 = 568\n",
    "\n",
    "print(\"2022 price index prediciton: \", index_2022)\n",
    "print(\"House price prediction (kr): \", int((2_300_000*index_2022)/index_2015))\n",
    "\n",
    "# Pick lowest cost function -> smallest MSE which is X4\n",
    "plt.show()"
   ]
  },
  {
   "cell_type": "code",
   "execution_count": 6,
   "metadata": {
    "pycharm": {
     "is_executing": false,
     "name": "#%%\n"
    }
   },
   "outputs": [],
   "source": [
    "\n"
   ]
  }
 ],
 "metadata": {
  "kernelspec": {
   "display_name": "Python 3",
   "language": "python",
   "name": "python3"
  },
  "language_info": {
   "codemirror_mode": {
    "name": "ipython",
    "version": 3
   },
   "file_extension": ".py",
   "mimetype": "text/x-python",
   "name": "python",
   "nbconvert_exporter": "python",
   "pygments_lexer": "ipython3",
   "version": "3.7.6"
  },
  "pycharm": {
   "stem_cell": {
    "cell_type": "raw",
    "source": [],
    "metadata": {
     "collapsed": false
    }
   }
  }
 },
 "nbformat": 4,
 "nbformat_minor": 1
}