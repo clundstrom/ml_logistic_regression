{
 "cells": [
  {
   "cell_type": "markdown",
   "metadata": {
    "collapsed": true,
    "pycharm": {
     "name": "#%% md\n"
    }
   },
   "source": [
    "### 6. Forward selection\n",
    "\n",
    "##### 1.1 Forward selection algorithm"
   ]
  },
  {
   "cell_type": "code",
   "execution_count": 1,
   "outputs": [
    {
     "name": "stdout",
     "text": [
      "Training MSE: 314.6663620242806, Column: 0\n",
      "Training MSE: 790.2893804532456, Column: 1\n",
      "Training MSE: 823.3111903599925, Column: 2\n",
      "Training MSE: 277.2023525115445, Column: 3\n",
      "Training MSE: 113.79190012368582, Column: 4\n",
      "Training MSE: 254.72858164292313, Column: 5\n",
      "Lowest MSE for 1 features: 113.79190012368582\n",
      "Training MSE: 109.10136698634071, Column: 1\n",
      "Training MSE: 108.13583641724789, Column: 2\n",
      "Training MSE: 102.30662970774905, Column: 3\n",
      "Training MSE: 45.60003264460982, Column: 4\n",
      "Training MSE: 44.877148351027714, Column: 5\n",
      "Lowest MSE for 2 features: 44.877148351027714\n",
      "Training MSE: 28.94321706350117, Column: 2\n",
      "Training MSE: 29.306382095054296, Column: 3\n",
      "Training MSE: 43.05032819811991, Column: 4\n",
      "Training MSE: 29.839557771498498, Column: 5\n",
      "Lowest MSE for 3 features: 28.94321706350117\n",
      "Training MSE: 26.703498055034814, Column: 3\n",
      "Training MSE: 14.19990378140934, Column: 4\n",
      "Training MSE: 28.924675042132726, Column: 5\n",
      "Lowest MSE for 4 features: 14.19990378140934\n",
      "Training MSE: 12.778051418804358, Column: 4\n",
      "Training MSE: 14.167200045247139, Column: 5\n",
      "Lowest MSE for 5 features: 12.778051418804358\n",
      "Training MSE: 12.396444360915659, Column: 5\n",
      "Lowest MSE for 6 features: 12.396444360915659\n",
      "Feature selection iterations: 21\n"
     ],
     "output_type": "stream"
    }
   ],
   "source": [
    "import numpy as np\n",
    "from os import path\n",
    "import util\n",
    "from sklearn.model_selection import cross_val_score\n",
    "from sklearn.linear_model import LinearRegression\n",
    "from sklearn.model_selection import KFold\n",
    "\n",
    "data = np.genfromtxt(path.join('data/GPUbenchmark.csv'), delimiter=',', dtype=float)\n",
    "\n",
    "y = data[:, 6]\n",
    "X = np.array([data[:, 0], data[:, 1], data[:, 2], data[:, 3], data[:, 4], data[:, 5]]).T\n",
    "Xe = util.extendMatrix(X)\n",
    "\n",
    "count = 0\n",
    "forward_set = np.empty((18, 1))\n",
    "data_sets = []\n",
    "\n",
    "for k in range(0, X.shape[1]):\n",
    "    best_mse = -1  # Starting value for best mean square error\n",
    "    for p in range(k, X.shape[1]):  # starting from k is the same as p-k\n",
    "\n",
    "        count += 1  # Keep track of models trained\n",
    "        temp = forward_set.copy()  # Create deep copy of forward model to avoid changing the optimized model\n",
    "        X_train = np.c_[temp, X[:, p]]  # Concat previous forward model with new feature for training\n",
    "        beta = util.calcBeta(X_train, y)  # Calculate beta\n",
    "        mse = util.cost(X_train, y, beta)  # Calculate cost\n",
    "        print(f\"Training MSE: {mse}, Column: {p}\")\n",
    "\n",
    "        # Save best feature if found\n",
    "        if mse < best_mse or best_mse < 0:\n",
    "            best_mse = mse  # assign new best mse\n",
    "            best_index = p  # index of best column\n",
    "            keep_feature = X[:, p]  # actual feature\n",
    "\n",
    "    # Add the column to M+1\n",
    "    forward_set = np.c_[forward_set, keep_feature]\n",
    "    # Move chosen feature to index k to avoid singular matrix when dotting and inversing\n",
    "    X[:, [k, best_index]] = X[:, [best_index, k]]\n",
    "    print(f\"Lowest MSE for {k + 1} features: {best_mse}\")\n",
    "    data_sets.append(forward_set)  # Save the best 18 x n sets to a list\n",
    "\n",
    "print(f\"Feature selection iterations: {count}\")\n",
    "\n"
   ],
   "metadata": {
    "collapsed": false,
    "pycharm": {
     "name": "#%%\n",
     "is_executing": false
    }
   }
  },
  {
   "cell_type": "markdown",
   "source": [
    "##### 1.2 Apply algorithm and use 3-fold cross validation\n",
    "\n",
    "##### Results: \n",
    "Model 5 is the best model because it has the lowest generalization (validation) error for \n",
    "3-fold CV.\n",
    "\n",
    "The most important feature according to the forward selection algorithm is feature 4 which is \n",
    "***Memory Config***."
   ],
   "metadata": {
    "collapsed": false,
    "pycharm": {
     "name": "#%% md\n"
    }
   }
  },
  {
   "cell_type": "code",
   "execution_count": 2,
   "outputs": [
    {
     "name": "stdout",
     "text": [
      "Model_1 3-fold MSE: 347.09190366265057\n",
      "Model_2 3-fold MSE: 124.65212014718725\n",
      "Model_3 3-fold MSE: 100.3940261066494\n",
      "Model_4 3-fold MSE: 46.93936905803836\n",
      "Model_5 3-fold MSE: 34.19240753366419\n",
      "Model_6 3-fold MSE: 42.68779923885409\n"
     ],
     "output_type": "stream"
    }
   ],
   "source": [
    "linreg = LinearRegression(fit_intercept=False)  # column 1 is already added\n",
    "kf = KFold(n_splits=3)\n",
    "for idx, set in enumerate(data_sets):\n",
    "    M_i = linreg.fit(X=set, y=y)\n",
    "    score = cross_val_score(M_i, set, y, cv=kf, scoring='neg_mean_squared_error') * -1\n",
    "    print(f\"Model_{idx+1} 3-fold MSE: {score.mean()}\")\n"
   ],
   "metadata": {
    "collapsed": false,
    "pycharm": {
     "name": "#%%\n",
     "is_executing": false
    }
   }
  },
  {
   "cell_type": "code",
   "execution_count": null,
   "outputs": [],
   "source": [
    "\n"
   ],
   "metadata": {
    "collapsed": false,
    "pycharm": {
     "name": "#%%\n"
    }
   }
  }
 ],
 "metadata": {
  "kernelspec": {
   "display_name": "Python 3",
   "language": "python",
   "name": "python3"
  },
  "language_info": {
   "codemirror_mode": {
    "name": "ipython",
    "version": 2
   },
   "file_extension": ".py",
   "mimetype": "text/x-python",
   "name": "python",
   "nbconvert_exporter": "python",
   "pygments_lexer": "ipython2",
   "version": "2.7.6"
  },
  "pycharm": {
   "stem_cell": {
    "cell_type": "raw",
    "source": [],
    "metadata": {
     "collapsed": false
    }
   }
  }
 },
 "nbformat": 4,
 "nbformat_minor": 0
}